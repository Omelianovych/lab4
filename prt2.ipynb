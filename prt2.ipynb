{
 "cells": [
  {
   "cell_type": "code",
   "execution_count": 6,
   "metadata": {},
   "outputs": [
    {
     "name": "stderr",
     "output_type": "stream",
     "text": [
      "Some weights of BertForSequenceClassification were not initialized from the model checkpoint at DeepPavlov/rubert-base-cased and are newly initialized: ['classifier.bias', 'classifier.weight']\n",
      "You should probably TRAIN this model on a down-stream task to be able to use it for predictions and inference.\n",
      "Device set to use cpu\n"
     ]
    },
    {
     "name": "stdout",
     "output_type": "stream",
     "text": [
      "Текст: Це чудовий день!\n",
      "Результат: [{'label': 'LABEL_1', 'score': 0.5089871883392334}]\n",
      "\n",
      "Текст: Я ненавиджу пробки на дорогах.\n",
      "Результат: [{'label': 'LABEL_0', 'score': 0.5262559056282043}]\n",
      "\n"
     ]
    }
   ],
   "source": [
    "import lzma\n",
    "\n",
    "from transformers import pipeline\n",
    "\n",
    "# Завантаження моделі та пайплайну\n",
    "classifier = pipeline(\"sentiment-analysis\", model=\"DeepPavlov/rubert-base-cased\")\n",
    "\n",
    "# Приклади класифікації тексту\n",
    "examples = [\"Це чудовий день!\", \"Я ненавиджу пробки на дорогах.\"]\n",
    "for text in examples:\n",
    "    result = classifier(text)\n",
    "    print(f\"Текст: {text}\")\n",
    "    print(f\"Результат: {result}\\n\")\n"
   ]
  },
  {
   "cell_type": "code",
   "execution_count": 10,
   "metadata": {},
   "outputs": [
    {
     "name": "stderr",
     "output_type": "stream",
     "text": [
      "Device set to use cpu\n",
      "Truncation was not explicitly activated but `max_length` is provided a specific value, please use `truncation=True` to explicitly truncate examples to max length. Defaulting to 'longest_first' truncation strategy. If you encode pairs of sequences (GLUE-style) with the tokenizer you can select this strategy more precisely by providing a specific strategy to `truncation`.\n",
      "Setting `pad_token_id` to `eos_token_id`:50256 for open-end generation.\n"
     ]
    },
    {
     "name": "stdout",
     "output_type": "stream",
     "text": [
      "енергетика в Україні: теоретичні аспекти, практичні загрози та виклики. – К.: Кондор, 2016\n",
      "У монографії узагальнено результати і рекомендації щодо підвищення кваліфікації та професійної підготовки фахівців у галузі екології та раціонального використання водних ресурсів в Україні з метою вирішення конкретних питань.\n",
      "У монографії розглядаються теоретичні, методологічні та практичні питання організації еколого-економічного моніторингу та використання водних ресурсів в Україні, визначення поняття, функції та об’єкта еколого-економічного моніторингу, визначено його місце у системі екологічних і соціальних економічних відносин, розкрито питання\n"
     ]
    }
   ],
   "source": [
    "generator = pipeline(\"text-generation\", model=\"benjamin/gpt2-wechsel-ukrainian\")\n",
    "\n",
    "prompt = \"енергетика в Україні\"\n",
    "result = generator(prompt, max_length=100, num_return_sequences=1)\n",
    "\n",
    "print(result[0]['generated_text'])"
   ]
  },
  {
   "cell_type": "code",
   "execution_count": 12,
   "metadata": {},
   "outputs": [
    {
     "name": "stderr",
     "output_type": "stream",
     "text": [
      "Device set to use cpu\n"
     ]
    },
    {
     "data": {
      "text/plain": [
       "{'score': 0.8798801898956299, 'start': 5, 'end': 18, 'answer': ' досить тепло'}"
      ]
     },
     "execution_count": 12,
     "metadata": {},
     "output_type": "execute_result"
    }
   ],
   "source": [
    "from transformers import pipeline, AutoTokenizer, AutoModelForQuestionAnswering\n",
    "model_name = \"robinhad/ukrainian-qa\"\n",
    "\n",
    "tokenizer = AutoTokenizer.from_pretrained(model_name)\n",
    "model = AutoModelForQuestionAnswering.from_pretrained(model_name)\n",
    "\n",
    "qa_model = pipeline(\"question-answering\", model=model.to(\"cpu\"), tokenizer=tokenizer)\n",
    "question = \"Яка зараз погода\"\n",
    "context =  \"Зараз досить тепло\"\n",
    "qa_model(question = question, context = context)"
   ]
  }
 ],
 "metadata": {
  "kernelspec": {
   "display_name": "venv",
   "language": "python",
   "name": "python3"
  },
  "language_info": {
   "codemirror_mode": {
    "name": "ipython",
    "version": 3
   },
   "file_extension": ".py",
   "mimetype": "text/x-python",
   "name": "python",
   "nbconvert_exporter": "python",
   "pygments_lexer": "ipython3",
   "version": "3.12.8"
  }
 },
 "nbformat": 4,
 "nbformat_minor": 2
}
